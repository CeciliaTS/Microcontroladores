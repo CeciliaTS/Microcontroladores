{
  "nbformat": 4,
  "nbformat_minor": 0,
  "metadata": {
    "colab": {
      "name": "Clase 18-01-21.ipynb",
      "provenance": [],
      "authorship_tag": "ABX9TyOgek+1cy8ODS1iBWm+SwII",
      "include_colab_link": true
    },
    "kernelspec": {
      "name": "python3",
      "display_name": "Python 3"
    }
  },
  "cells": [
    {
      "cell_type": "markdown",
      "metadata": {
        "id": "view-in-github",
        "colab_type": "text"
      },
      "source": [
        "<a href=\"https://colab.research.google.com/github/CeciliaTS/Microcontroladores/blob/main/Clase_18_01_21.ipynb\" target=\"_parent\"><img src=\"https://colab.research.google.com/assets/colab-badge.svg\" alt=\"Open In Colab\"/></a>"
      ]
    },
    {
      "cell_type": "code",
      "metadata": {
        "colab": {
          "base_uri": "https://localhost:8080/"
        },
        "id": "TJczvjMunN4Y",
        "outputId": "b633ce11-88b1-4672-e89a-40087de397c7"
      },
      "source": [
        "\"\"\"\r\n",
        "funciones predeterminadas\r\n",
        "\"\"\"\r\n",
        "nombre = \"cecy\"\r\n",
        "print (nombre,type(nombre))\r\n",
        "#detectar tipado \r\n",
        "comprobar = isinstance (nombre,float)\r\n",
        "#strip\r\n",
        "texto = \"    Holis, ¿cómo estás?\"\r\n",
        "print(texto)\r\n",
        "texto.strip()\r\n",
        "texto.find(\"cómo\")\r\n",
        "texto_2 = texto.replace(\"estás\",\"te encuentras\")\r\n",
        "print(texto_2)\r\n",
        "\r\n",
        "\"\"\"\r\n",
        "Lista o arreglo\r\n",
        "\"\"\"\r\n",
        "a = (1,2) #tupla\r\n",
        "b= [1,2]  #lista\r\n",
        "print(f\"{a[0]} {b[0]}\") \r\n",
        "b[0]=3\r\n",
        "print(f\"{a[0]} {b[0]}\")\r\n",
        "nombres = [\"Cecy\", \"Lucy\", \"Arely\", \"Pausi\", \"Alejandro\", \"Cofn\"]\r\n",
        "print(nombres[-3])\r\n",
        "print(nombres[1:2])\r\n",
        "type(nombres[-3])\r\n",
        "nombres.append(\"Santani\")\r\n",
        "print(nombres)\r\n",
        "print(nombres[-1])\r\n",
        "\r\n"
      ],
      "execution_count": 3,
      "outputs": [
        {
          "output_type": "stream",
          "text": [
            "cecy <class 'str'>\n",
            "    Holis, ¿cómo estás?\n",
            "    Holis, ¿cómo te encuentras?\n",
            "1 1\n",
            "1 3\n",
            "Pausi\n",
            "['Lucy']\n",
            "['Cecy', 'Lucy', 'Arely', 'Pausi', 'Alejandro', 'Cofn', 'Santani']\n",
            "Santani\n"
          ],
          "name": "stdout"
        }
      ]
    },
    {
      "cell_type": "code",
      "metadata": {
        "colab": {
          "base_uri": "https://localhost:8080/"
        },
        "id": "8VPLrlTdnaZ3",
        "outputId": "e8dabf26-7aa7-411a-d20b-ac2b906b2c69"
      },
      "source": [
        "#corrimiento de lista \r\n",
        "\r\n",
        "for i in nombres[2:4]:\r\n",
        "  print(f\"\\n{i} indice {nombres.index(i)}\")\r\n",
        "\r\n",
        "  "
      ],
      "execution_count": 9,
      "outputs": [
        {
          "output_type": "stream",
          "text": [
            "\n",
            "Arely indice 2\n",
            "\n",
            "Pausi indice 3\n"
          ],
          "name": "stdout"
        }
      ]
    },
    {
      "cell_type": "code",
      "metadata": {
        "colab": {
          "base_uri": "https://localhost:8080/"
        },
        "id": "dAUFkjpWpI2P",
        "outputId": "e4319b71-2bb7-4e96-98c6-625951f9cf73"
      },
      "source": [
        "#listas multidimensionales \r\n",
        "personas = [[\"Vale\",22],\r\n",
        "            [\"Marce\",23]\r\n",
        "            ]\r\n",
        "type(personas[1][0])\r\n",
        "print(personas[1][0])"
      ],
      "execution_count": 12,
      "outputs": [
        {
          "output_type": "stream",
          "text": [
            "Marce\n"
          ],
          "name": "stdout"
        }
      ]
    },
    {
      "cell_type": "code",
      "metadata": {
        "colab": {
          "base_uri": "https://localhost:8080/"
        },
        "id": "AKHpz3-Oqfdp",
        "outputId": "08164a58-2b4e-445f-bc37-8250d1996910"
      },
      "source": [
        "#ciclo de iteracion \r\n",
        "for i in personas:\r\n",
        "  print(i) #i hereda a pesonas e imprime toda la lista \r\n",
        "for i in personas:\r\n",
        "  for j in i:\r\n",
        "    if i.index(j) == 0:   #si es elemnto cero es el nombre\r\n",
        "      print(f\"el nombres es: {j}\")\r\n",
        "    else:\r\n",
        "      print(f\"la edad es: {j}\")"
      ],
      "execution_count": 21,
      "outputs": [
        {
          "output_type": "stream",
          "text": [
            "['Valeria', 22]\n",
            "['Marce', 23]\n",
            "el nombres es: Valeria\n",
            "la edad es: 22\n",
            "el nombres es: Marce\n",
            "la edad es: 23\n"
          ],
          "name": "stdout"
        }
      ]
    },
    {
      "cell_type": "code",
      "metadata": {
        "colab": {
          "base_uri": "https://localhost:8080/"
        },
        "id": "9FVAcBVMrHdM",
        "outputId": "0c7fb03e-c90a-4996-de5f-a91b8b1e5c54"
      },
      "source": [
        "\"\"\"\r\n",
        "funciones y métodos para las listas\r\n",
        "\"\"\"\r\n",
        "numeros = [1,4,23,5,6,-1,0] \r\n",
        "print(numeros)\r\n",
        "numeros.sort()\r\n",
        "print(numeros)\r\n",
        "numeros.insert(2,-4)\r\n",
        "print(numeros)\r\n",
        "numeros.remove(1)\r\n",
        "print(numeros)\r\n",
        "numeros.pop(0)\r\n",
        "print(numeros)"
      ],
      "execution_count": 29,
      "outputs": [
        {
          "output_type": "stream",
          "text": [
            "[1, 4, 23, 5, 6, -1, 0]\n",
            "[-1, 0, 1, 4, 5, 6, 23]\n",
            "[-1, 0, -4, 1, 4, 5, 6, 23]\n",
            "[-1, 0, -4, 4, 5, 6, 23]\n",
            "[0, -4, 4, 5, 6, 23]\n"
          ],
          "name": "stdout"
        }
      ]
    },
    {
      "cell_type": "code",
      "metadata": {
        "colab": {
          "base_uri": "https://localhost:8080/"
        },
        "id": "2LCW5o4runaL",
        "outputId": "058aec55-9706-49a9-fd9d-720f5fce038f"
      },
      "source": [
        "\"\"\"\r\n",
        "diccionarios, almacena un conjunto de datos, muy pareido a las listas pero su índice es alfanumérico\r\n",
        "\"\"\"\r\n",
        "persona_1 = {\r\n",
        "    \"nombre\":\"santani\",\r\n",
        "    \"edad\":34,\r\n",
        "    \"signo\":\"tauro\"\r\n",
        "    }\r\n",
        "persona_2 = {\r\n",
        "    \"nombre\":\"Alexis\",\r\n",
        "    \"edad\":23,\r\n",
        "    \"signo\":\"tauro\"\r\n",
        "    }\r\n",
        "personajes = [persona_1,persona_2]\r\n",
        "print(personajes[0][\"edad\"])\r\n",
        "print(personajes[0])\r\n"
      ],
      "execution_count": 53,
      "outputs": [
        {
          "output_type": "stream",
          "text": [
            "34\n",
            "{'nombre': 'santani', 'edad': 34, 'signo': 'tauro'}\n"
          ],
          "name": "stdout"
        }
      ]
    },
    {
      "cell_type": "code",
      "metadata": {
        "colab": {
          "base_uri": "https://localhost:8080/"
        },
        "id": "7EwP8C_iwkSi",
        "outputId": "44560bf8-f364-49d1-b64a-c803b7eb0f8f"
      },
      "source": [
        "#ciclo de iteracion \r\n",
        "for indice in personajes:    #indice hereda prsonajes\r\n",
        "  print(f\"El nombre es {indice['nombre']} y tiene {indice['edad']} años\") "
      ],
      "execution_count": 52,
      "outputs": [
        {
          "output_type": "stream",
          "text": [
            "El nombre es santani y tiene 34 años\n",
            "El nombre es Alexis y tiene 23 años\n"
          ],
          "name": "stdout"
        }
      ]
    }
  ]
}