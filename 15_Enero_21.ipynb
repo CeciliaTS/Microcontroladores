{
  "nbformat": 4,
  "nbformat_minor": 0,
  "metadata": {
    "colab": {
      "name": "15_Enero_21.ipynb",
      "provenance": [],
      "collapsed_sections": [],
      "authorship_tag": "ABX9TyPJvooTZ124qZJIC1oYmmEL",
      "include_colab_link": true
    },
    "kernelspec": {
      "name": "python3",
      "display_name": "Python 3"
    }
  },
  "cells": [
    {
      "cell_type": "markdown",
      "metadata": {
        "id": "view-in-github",
        "colab_type": "text"
      },
      "source": [
        "<a href=\"https://colab.research.google.com/github/CeciliaTS/Microcontroladores/blob/main/15_Enero_21.ipynb\" target=\"_parent\"><img src=\"https://colab.research.google.com/assets/colab-badge.svg\" alt=\"Open In Colab\"/></a>"
      ]
    },
    {
      "cell_type": "code",
      "metadata": {
        "colab": {
          "base_uri": "https://localhost:8080/"
        },
        "id": "4zGAwOn94beU",
        "outputId": "d80f3f68-b5cd-4794-8f24-4826f88e0ea1"
      },
      "source": [
        "# Introducción a Python\r\n",
        "# tipo de datos\r\n",
        "\r\n",
        "entero = 5\r\n",
        "flotante = 1.5\r\n",
        "boleano = True # || False\r\n",
        "strng = \"h\"\r\n",
        "lista = [5,4,3,2,1]\r\n",
        "tupla = (\"manchas\", \"popeye\", \"cacahuate\") #lista inmutable\r\n",
        "diccionario = {\r\n",
        "    \"nombre\":\"Cecilia\",\r\n",
        "    \"edad\": 22,\r\n",
        "    \"Signo sodiacal\": \"capricornio\",\r\n",
        "}\r\n",
        "nada = None\r\n",
        "rango = range(4,9)  #también es un tipo de lista\r\n",
        "byte = b\"quiubo\"\r\n",
        "\r\n",
        "print(type(entero),type(flotante),type(boleano),type(strng),type(lista),type(tupla),type(diccionario))\r\n",
        "\r\n",
        "dato = \"Cecilia\"\r\n",
        "edad = 22\r\n",
        "print(f\"Main Name ist {dato} und ich bin {edad} Jare alt\")\r\n",
        "\r\n",
        "lista =  [\"lunes\", \"miércoles\", \"jueves\", \"viernes\"]\r\n",
        "lista.insert(1,\"martes\")                # añade elemento en una determinada posición\r\n",
        "lista.append(\"dia no laborable wujuuu\") # append me agrega un elemento ala lista al final\r\n",
        "#lista[1] = 5                               //en la posición 1 de lista cambia el valor por 5\r\n",
        "#lista.extend([elementos que quiero añadir])\r\n",
        "#lista = listaA + listaB                    //suma los datos de ambas listas\r\n",
        "#print(\"lunes\" in lista)                    // me dice si un valor está o no en una lista \r\n",
        "#print(lista.index(\"lunes\"))                // me retorna el índice que estoy buscando \r\n",
        "#print(lista.count(\"lunes\"))                // retorna el valor de repeticiones de la variable que indique\r\n",
        "#lista.pop()                                // si no coloco un valor entre () elimina el último elemento de la lista, si pongo el índice eliminará ese valor\r\n",
        "#lista.remove(\"valor que quiero eliminar\")\r\n",
        "#lista.clear()                              // elimina todos los valores de la lista\r\n",
        "#lista.reverse                              // cambia el orden\r\n",
        "#lista = [1,2,3,4,5]*3                      // multiplica la lista por tres \r\n",
        "#lista.sort()                               // ordena elementos de forma ascendente\r\n",
        "#lista.sort(reverse=True)                   // ordena elementos de forma descendente\r\n",
        "\r\n",
        "# condicionales if, elif, else\r\n",
        "\r\n",
        "valor = int(input(\"Digite un número: \"))\r\n",
        "if valor>0:\r\n",
        "  print(\"El número es positivo\")\r\n",
        "elif valor == 0:\r\n",
        "  print(\"El número es cero\")\r\n",
        "else:\r\n",
        "  print(\"El número es negativo\")\r\n",
        "\r\n",
        "\r\n",
        "# bucles while\r\n",
        "# EEJEMPLO 1\r\n",
        "\r\n",
        "import math \r\n",
        "numero = int(input(\"digite un número: \"))\r\n",
        "while numero<0: #condición una o varias con operadores lógicos\r\n",
        "  print(\"¡Error! Digite un número positivo, plx\")\r\n",
        "  numero = int(input(\"digite un número: \"))\r\n",
        "raiz = math.sqrt(numero)\r\n",
        "print(f\"La raíz cuadrada del número es:{raiz:.4f}\")\r\n",
        "\r\n",
        "#EJEMPLO 2\r\n",
        "\r\n",
        "i = 0\r\n",
        "print(\"Breathe me in\"+\"\\n\"+\"Breathe me out\"+\"\\n\"+\"I don't know if I could ever go without\")\r\n",
        "while i<8:\r\n",
        "  print(\"Watermelon sugar high\")\r\n",
        "  i += 1 \r\n",
        "print(\"I just wanna taste it\"+\"\\n\"+\"I just wanna taste it\"+\"\\n\"+\"Watermelon sugar high\")\r\n",
        "\r\n",
        "# bucle for\r\n",
        "for i in [1,2,43,34,15]:\r\n",
        "  print(i)\r\n",
        "\"\"\"\r\n",
        "  #diccionario\r\n",
        "dicc = {\"cecilia\":22,\"Miriam\":15,\"Yoav\":13}\r\n",
        "\"\"\"\r\n",
        "for i in dicc:\r\n",
        "  print(f\"imprime solo las claves: {i}\")\r\n",
        "  print(f\"{dicc[i]}\")              # imprime solo los valores del diccionario\r\n",
        "  print(f\"{i} -> {dicc[i]}\")      # muestra ambos\r\n",
        "\r\n",
        "#dos variables iteradoras \r\n",
        "for clave,valor in dicc.items(): # items solo funciona en diccionarios\r\n",
        "  print(f\"{clave}->{valor}\")\r\n",
        "\r\n",
        "#utilizando cadenas\r\n",
        "cadena = \"Cecilia\"\r\n",
        "for i in cadena:\r\n",
        "  #print(f\"{i}\")  # con salto de línea\r\n",
        "  print(f\"{i}\",end=\" \")  # no da salto de línea solo espacio entre caracteres \r\n",
        "\r\n",
        "# funciones\r\n",
        "def funcioncita(num1,num2): # define o declara pero no ejecuta nada \r\n",
        "  print (num1 + num2)\r\n",
        "funcioncita(3,10)\r\n",
        "\r\n",
        "def function (cad,rep):\r\n",
        "  print (cad*rep)\r\n",
        "function (\"holis\\n\",11)\r\n",
        "\r\n"
      ],
      "execution_count": null,
      "outputs": [
        {
          "output_type": "stream",
          "text": [
            "holis\n",
            "holis\n",
            "holis\n",
            "holis\n",
            "holis\n",
            "holis\n",
            "holis\n",
            "holis\n",
            "holis\n",
            "holis\n",
            "holis\n",
            "\n"
          ],
          "name": "stdout"
        }
      ]
    },
    {
      "cell_type": "code",
      "metadata": {
        "id": "G7_FY5zlznk3"
      },
      "source": [
        ""
      ],
      "execution_count": null,
      "outputs": []
    }
  ]
}